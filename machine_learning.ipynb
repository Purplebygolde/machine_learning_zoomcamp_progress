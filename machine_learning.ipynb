{
  "metadata": {
    "kernelspec": {
      "name": "python",
      "display_name": "Python (Pyodide)",
      "language": "python"
    },
    "language_info": {
      "codemirror_mode": {
        "name": "python",
        "version": 3
      },
      "file_extension": ".py",
      "mimetype": "text/x-python",
      "name": "python",
      "nbconvert_exporter": "python",
      "pygments_lexer": "ipython3",
      "version": "3.8"
    }
  },
  "nbformat_minor": 4,
  "nbformat": 4,
  "cells": [
    {
      "cell_type": "markdown",
      "source": "#car prediction project",
      "metadata": {}
    },
    {
      "cell_type": "markdown",
      "source": "Project plan:\n\n    Prepare data and Exploratory data analysis (EDA)\n    Use linear regression for predicting price\n    Understanding the internals of linear regression\n    Evaluating the model with RMSE\n    Feature engineering\n    Regularization\n    Using the model\n",
      "metadata": {}
    },
    {
      "cell_type": "code",
      "source": "#loading libraries\nimport pandas as pd\nimport numpy as np",
      "metadata": {
        "trusted": true
      },
      "outputs": [],
      "execution_count": 2
    },
    {
      "cell_type": "code",
      "source": "#loading data\ndf = pd.read_csv('data.csv')",
      "metadata": {
        "trusted": true
      },
      "outputs": [],
      "execution_count": 20
    },
    {
      "cell_type": "code",
      "source": "#viewing the first 4 rows of the data \ndf.head(n = 4)",
      "metadata": {
        "trusted": true
      },
      "outputs": [
        {
          "execution_count": 21,
          "output_type": "execute_result",
          "data": {
            "text/plain": "  Make       Model  Year             Engine Fuel Type  Engine HP  \\\n0  BMW  1 Series M  2011  premium unleaded (required)      335.0   \n1  BMW    1 Series  2011  premium unleaded (required)      300.0   \n2  BMW    1 Series  2011  premium unleaded (required)      300.0   \n3  BMW    1 Series  2011  premium unleaded (required)      230.0   \n\n   Engine Cylinders Transmission Type     Driven_Wheels  Number of Doors  \\\n0               6.0            MANUAL  rear wheel drive              2.0   \n1               6.0            MANUAL  rear wheel drive              2.0   \n2               6.0            MANUAL  rear wheel drive              2.0   \n3               6.0            MANUAL  rear wheel drive              2.0   \n\n                         Market Category Vehicle Size Vehicle Style  \\\n0  Factory Tuner,Luxury,High-Performance      Compact         Coupe   \n1                     Luxury,Performance      Compact   Convertible   \n2                Luxury,High-Performance      Compact         Coupe   \n3                     Luxury,Performance      Compact         Coupe   \n\n   highway MPG  city mpg  Popularity   MSRP  \n0           26        19        3916  46135  \n1           28        19        3916  40650  \n2           28        20        3916  36350  \n3           28        18        3916  29450  ",
            "text/html": "<div>\n<style scoped>\n    .dataframe tbody tr th:only-of-type {\n        vertical-align: middle;\n    }\n\n    .dataframe tbody tr th {\n        vertical-align: top;\n    }\n\n    .dataframe thead th {\n        text-align: right;\n    }\n</style>\n<table border=\"1\" class=\"dataframe\">\n  <thead>\n    <tr style=\"text-align: right;\">\n      <th></th>\n      <th>Make</th>\n      <th>Model</th>\n      <th>Year</th>\n      <th>Engine Fuel Type</th>\n      <th>Engine HP</th>\n      <th>Engine Cylinders</th>\n      <th>Transmission Type</th>\n      <th>Driven_Wheels</th>\n      <th>Number of Doors</th>\n      <th>Market Category</th>\n      <th>Vehicle Size</th>\n      <th>Vehicle Style</th>\n      <th>highway MPG</th>\n      <th>city mpg</th>\n      <th>Popularity</th>\n      <th>MSRP</th>\n    </tr>\n  </thead>\n  <tbody>\n    <tr>\n      <th>0</th>\n      <td>BMW</td>\n      <td>1 Series M</td>\n      <td>2011</td>\n      <td>premium unleaded (required)</td>\n      <td>335.0</td>\n      <td>6.0</td>\n      <td>MANUAL</td>\n      <td>rear wheel drive</td>\n      <td>2.0</td>\n      <td>Factory Tuner,Luxury,High-Performance</td>\n      <td>Compact</td>\n      <td>Coupe</td>\n      <td>26</td>\n      <td>19</td>\n      <td>3916</td>\n      <td>46135</td>\n    </tr>\n    <tr>\n      <th>1</th>\n      <td>BMW</td>\n      <td>1 Series</td>\n      <td>2011</td>\n      <td>premium unleaded (required)</td>\n      <td>300.0</td>\n      <td>6.0</td>\n      <td>MANUAL</td>\n      <td>rear wheel drive</td>\n      <td>2.0</td>\n      <td>Luxury,Performance</td>\n      <td>Compact</td>\n      <td>Convertible</td>\n      <td>28</td>\n      <td>19</td>\n      <td>3916</td>\n      <td>40650</td>\n    </tr>\n    <tr>\n      <th>2</th>\n      <td>BMW</td>\n      <td>1 Series</td>\n      <td>2011</td>\n      <td>premium unleaded (required)</td>\n      <td>300.0</td>\n      <td>6.0</td>\n      <td>MANUAL</td>\n      <td>rear wheel drive</td>\n      <td>2.0</td>\n      <td>Luxury,High-Performance</td>\n      <td>Compact</td>\n      <td>Coupe</td>\n      <td>28</td>\n      <td>20</td>\n      <td>3916</td>\n      <td>36350</td>\n    </tr>\n    <tr>\n      <th>3</th>\n      <td>BMW</td>\n      <td>1 Series</td>\n      <td>2011</td>\n      <td>premium unleaded (required)</td>\n      <td>230.0</td>\n      <td>6.0</td>\n      <td>MANUAL</td>\n      <td>rear wheel drive</td>\n      <td>2.0</td>\n      <td>Luxury,Performance</td>\n      <td>Compact</td>\n      <td>Coupe</td>\n      <td>28</td>\n      <td>18</td>\n      <td>3916</td>\n      <td>29450</td>\n    </tr>\n  </tbody>\n</table>\n</div>"
          },
          "metadata": {}
        }
      ],
      "execution_count": 21
    },
    {
      "cell_type": "code",
      "source": "#extracting columns\ndf.columns\n\n",
      "metadata": {
        "trusted": true
      },
      "outputs": [
        {
          "execution_count": 22,
          "output_type": "execute_result",
          "data": {
            "text/plain": "Index(['Make', 'Model', 'Year', 'Engine Fuel Type', 'Engine HP',\n       'Engine Cylinders', 'Transmission Type', 'Driven_Wheels',\n       'Number of Doors', 'Market Category', 'Vehicle Size', 'Vehicle Style',\n       'highway MPG', 'city mpg', 'Popularity', 'MSRP'],\n      dtype='object')"
          },
          "metadata": {}
        }
      ],
      "execution_count": 22
    },
    {
      "cell_type": "code",
      "source": "#converting column names to lower case and replacing all spaces with underscores\n\ndf.columns.str.lower().str.replace(' ', '_')",
      "metadata": {
        "trusted": true
      },
      "outputs": [
        {
          "execution_count": 23,
          "output_type": "execute_result",
          "data": {
            "text/plain": "Index(['make', 'model', 'year', 'engine_fuel_type', 'engine_hp',\n       'engine_cylinders', 'transmission_type', 'driven_wheels',\n       'number_of_doors', 'market_category', 'vehicle_size', 'vehicle_style',\n       'highway_mpg', 'city_mpg', 'popularity', 'msrp'],\n      dtype='object')"
          },
          "metadata": {}
        }
      ],
      "execution_count": 23
    },
    {
      "cell_type": "code",
      "source": "#replacing the previous edit to the original dataframe\ndf.columns = df.columns.str.lower().str.replace(' ', '_') sum() .any()\n",
      "metadata": {
        "trusted": true
      },
      "outputs": [
        {
          "ename": "<class 'SyntaxError'>",
          "evalue": "invalid syntax (<ipython-input-25-f143032cc4f6>, line 2)",
          "traceback": [
            "\u001b[0;36m  Cell \u001b[0;32mIn[25], line 2\u001b[0;36m\u001b[0m\n\u001b[0;31m    df.columns = df.columns.str.lower().str.replace(' ', '_') sum() .any()\u001b[0m\n\u001b[0m                                                              ^\u001b[0m\n\u001b[0;31mSyntaxError\u001b[0m\u001b[0;31m:\u001b[0m invalid syntax\n"
          ],
          "output_type": "error"
        }
      ],
      "execution_count": 25
    },
    {
      "cell_type": "code",
      "source": "#finding missing values and calculating their sum inthe whole data \ndf.isnull().any()",
      "metadata": {
        "trusted": true
      },
      "outputs": [
        {
          "execution_count": 26,
          "output_type": "execute_result",
          "data": {
            "text/plain": "Make                 False\nModel                False\nYear                 False\nEngine Fuel Type      True\nEngine HP             True\nEngine Cylinders      True\nTransmission Type    False\nDriven_Wheels        False\nNumber of Doors       True\nMarket Category       True\nVehicle Size         False\nVehicle Style        False\nhighway MPG          False\ncity mpg             False\nPopularity           False\nMSRP                 False\ndtype: bool"
          },
          "metadata": {}
        }
      ],
      "execution_count": 26
    },
    {
      "cell_type": "code",
      "source": " df.isnull().sum()",
      "metadata": {
        "trusted": true
      },
      "outputs": [
        {
          "execution_count": 27,
          "output_type": "execute_result",
          "data": {
            "text/plain": "Make                    0\nModel                   0\nYear                    0\nEngine Fuel Type        3\nEngine HP              69\nEngine Cylinders       30\nTransmission Type       0\nDriven_Wheels           0\nNumber of Doors         6\nMarket Category      3742\nVehicle Size            0\nVehicle Style           0\nhighway MPG             0\ncity mpg                0\nPopularity              0\nMSRP                    0\ndtype: int64"
          },
          "metadata": {}
        }
      ],
      "execution_count": 27
    },
    {
      "cell_type": "code",
      "source": "df.columns = [df.columns.str.lower().str.replace(' ', '_')]",
      "metadata": {
        "trusted": true
      },
      "outputs": [],
      "execution_count": 48
    },
    {
      "cell_type": "code",
      "source": "df",
      "metadata": {
        "trusted": true
      },
      "outputs": [
        {
          "execution_count": 49,
          "output_type": "execute_result",
          "data": {
            "text/plain": "          make       model  year                engine_fuel_type engine_hp  \\\n0          bmw  1_series_m  2011     premium_unleaded_(required)     335.0   \n1          bmw    1_series  2011     premium_unleaded_(required)     300.0   \n2          bmw    1_series  2011     premium_unleaded_(required)     300.0   \n3          bmw    1_series  2011     premium_unleaded_(required)     230.0   \n4          bmw    1_series  2011     premium_unleaded_(required)     230.0   \n...        ...         ...   ...                             ...       ...   \n11909    acura         zdx  2012     premium_unleaded_(required)     300.0   \n11910    acura         zdx  2012     premium_unleaded_(required)     300.0   \n11911    acura         zdx  2012     premium_unleaded_(required)     300.0   \n11912    acura         zdx  2013  premium_unleaded_(recommended)     300.0   \n11913  lincoln      zephyr  2006                regular_unleaded     221.0   \n\n      engine_cylinders transmission_type      driven_wheels number_of_doors  \\\n0                  6.0            manual   rear_wheel_drive             2.0   \n1                  6.0            manual   rear_wheel_drive             2.0   \n2                  6.0            manual   rear_wheel_drive             2.0   \n3                  6.0            manual   rear_wheel_drive             2.0   \n4                  6.0            manual   rear_wheel_drive             2.0   \n...                ...               ...                ...             ...   \n11909              6.0         automatic    all_wheel_drive             4.0   \n11910              6.0         automatic    all_wheel_drive             4.0   \n11911              6.0         automatic    all_wheel_drive             4.0   \n11912              6.0         automatic    all_wheel_drive             4.0   \n11913              6.0         automatic  front_wheel_drive             4.0   \n\n                             market_category vehicle_size  vehicle_style  \\\n0      factory_tuner,luxury,high-performance      compact          coupe   \n1                         luxury,performance      compact    convertible   \n2                    luxury,high-performance      compact          coupe   \n3                         luxury,performance      compact          coupe   \n4                                     luxury      compact    convertible   \n...                                      ...          ...            ...   \n11909             crossover,hatchback,luxury      midsize  4dr_hatchback   \n11910             crossover,hatchback,luxury      midsize  4dr_hatchback   \n11911             crossover,hatchback,luxury      midsize  4dr_hatchback   \n11912             crossover,hatchback,luxury      midsize  4dr_hatchback   \n11913                                 luxury      midsize          sedan   \n\n      highway_mpg city_mpg popularity   msrp  \n0              26       19       3916  46135  \n1              28       19       3916  40650  \n2              28       20       3916  36350  \n3              28       18       3916  29450  \n4              28       18       3916  34500  \n...           ...      ...        ...    ...  \n11909          23       16        204  46120  \n11910          23       16        204  56670  \n11911          23       16        204  50620  \n11912          23       16        204  50920  \n11913          26       17         61  28995  \n\n[11914 rows x 16 columns]",
            "text/html": "<div>\n<style scoped>\n    .dataframe tbody tr th:only-of-type {\n        vertical-align: middle;\n    }\n\n    .dataframe tbody tr th {\n        vertical-align: top;\n    }\n\n    .dataframe thead tr th {\n        text-align: left;\n    }\n</style>\n<table border=\"1\" class=\"dataframe\">\n  <thead>\n    <tr>\n      <th></th>\n      <th>make</th>\n      <th>model</th>\n      <th>year</th>\n      <th>engine_fuel_type</th>\n      <th>engine_hp</th>\n      <th>engine_cylinders</th>\n      <th>transmission_type</th>\n      <th>driven_wheels</th>\n      <th>number_of_doors</th>\n      <th>market_category</th>\n      <th>vehicle_size</th>\n      <th>vehicle_style</th>\n      <th>highway_mpg</th>\n      <th>city_mpg</th>\n      <th>popularity</th>\n      <th>msrp</th>\n    </tr>\n  </thead>\n  <tbody>\n    <tr>\n      <th>0</th>\n      <td>bmw</td>\n      <td>1_series_m</td>\n      <td>2011</td>\n      <td>premium_unleaded_(required)</td>\n      <td>335.0</td>\n      <td>6.0</td>\n      <td>manual</td>\n      <td>rear_wheel_drive</td>\n      <td>2.0</td>\n      <td>factory_tuner,luxury,high-performance</td>\n      <td>compact</td>\n      <td>coupe</td>\n      <td>26</td>\n      <td>19</td>\n      <td>3916</td>\n      <td>46135</td>\n    </tr>\n    <tr>\n      <th>1</th>\n      <td>bmw</td>\n      <td>1_series</td>\n      <td>2011</td>\n      <td>premium_unleaded_(required)</td>\n      <td>300.0</td>\n      <td>6.0</td>\n      <td>manual</td>\n      <td>rear_wheel_drive</td>\n      <td>2.0</td>\n      <td>luxury,performance</td>\n      <td>compact</td>\n      <td>convertible</td>\n      <td>28</td>\n      <td>19</td>\n      <td>3916</td>\n      <td>40650</td>\n    </tr>\n    <tr>\n      <th>2</th>\n      <td>bmw</td>\n      <td>1_series</td>\n      <td>2011</td>\n      <td>premium_unleaded_(required)</td>\n      <td>300.0</td>\n      <td>6.0</td>\n      <td>manual</td>\n      <td>rear_wheel_drive</td>\n      <td>2.0</td>\n      <td>luxury,high-performance</td>\n      <td>compact</td>\n      <td>coupe</td>\n      <td>28</td>\n      <td>20</td>\n      <td>3916</td>\n      <td>36350</td>\n    </tr>\n    <tr>\n      <th>3</th>\n      <td>bmw</td>\n      <td>1_series</td>\n      <td>2011</td>\n      <td>premium_unleaded_(required)</td>\n      <td>230.0</td>\n      <td>6.0</td>\n      <td>manual</td>\n      <td>rear_wheel_drive</td>\n      <td>2.0</td>\n      <td>luxury,performance</td>\n      <td>compact</td>\n      <td>coupe</td>\n      <td>28</td>\n      <td>18</td>\n      <td>3916</td>\n      <td>29450</td>\n    </tr>\n    <tr>\n      <th>4</th>\n      <td>bmw</td>\n      <td>1_series</td>\n      <td>2011</td>\n      <td>premium_unleaded_(required)</td>\n      <td>230.0</td>\n      <td>6.0</td>\n      <td>manual</td>\n      <td>rear_wheel_drive</td>\n      <td>2.0</td>\n      <td>luxury</td>\n      <td>compact</td>\n      <td>convertible</td>\n      <td>28</td>\n      <td>18</td>\n      <td>3916</td>\n      <td>34500</td>\n    </tr>\n    <tr>\n      <th>...</th>\n      <td>...</td>\n      <td>...</td>\n      <td>...</td>\n      <td>...</td>\n      <td>...</td>\n      <td>...</td>\n      <td>...</td>\n      <td>...</td>\n      <td>...</td>\n      <td>...</td>\n      <td>...</td>\n      <td>...</td>\n      <td>...</td>\n      <td>...</td>\n      <td>...</td>\n      <td>...</td>\n    </tr>\n    <tr>\n      <th>11909</th>\n      <td>acura</td>\n      <td>zdx</td>\n      <td>2012</td>\n      <td>premium_unleaded_(required)</td>\n      <td>300.0</td>\n      <td>6.0</td>\n      <td>automatic</td>\n      <td>all_wheel_drive</td>\n      <td>4.0</td>\n      <td>crossover,hatchback,luxury</td>\n      <td>midsize</td>\n      <td>4dr_hatchback</td>\n      <td>23</td>\n      <td>16</td>\n      <td>204</td>\n      <td>46120</td>\n    </tr>\n    <tr>\n      <th>11910</th>\n      <td>acura</td>\n      <td>zdx</td>\n      <td>2012</td>\n      <td>premium_unleaded_(required)</td>\n      <td>300.0</td>\n      <td>6.0</td>\n      <td>automatic</td>\n      <td>all_wheel_drive</td>\n      <td>4.0</td>\n      <td>crossover,hatchback,luxury</td>\n      <td>midsize</td>\n      <td>4dr_hatchback</td>\n      <td>23</td>\n      <td>16</td>\n      <td>204</td>\n      <td>56670</td>\n    </tr>\n    <tr>\n      <th>11911</th>\n      <td>acura</td>\n      <td>zdx</td>\n      <td>2012</td>\n      <td>premium_unleaded_(required)</td>\n      <td>300.0</td>\n      <td>6.0</td>\n      <td>automatic</td>\n      <td>all_wheel_drive</td>\n      <td>4.0</td>\n      <td>crossover,hatchback,luxury</td>\n      <td>midsize</td>\n      <td>4dr_hatchback</td>\n      <td>23</td>\n      <td>16</td>\n      <td>204</td>\n      <td>50620</td>\n    </tr>\n    <tr>\n      <th>11912</th>\n      <td>acura</td>\n      <td>zdx</td>\n      <td>2013</td>\n      <td>premium_unleaded_(recommended)</td>\n      <td>300.0</td>\n      <td>6.0</td>\n      <td>automatic</td>\n      <td>all_wheel_drive</td>\n      <td>4.0</td>\n      <td>crossover,hatchback,luxury</td>\n      <td>midsize</td>\n      <td>4dr_hatchback</td>\n      <td>23</td>\n      <td>16</td>\n      <td>204</td>\n      <td>50920</td>\n    </tr>\n    <tr>\n      <th>11913</th>\n      <td>lincoln</td>\n      <td>zephyr</td>\n      <td>2006</td>\n      <td>regular_unleaded</td>\n      <td>221.0</td>\n      <td>6.0</td>\n      <td>automatic</td>\n      <td>front_wheel_drive</td>\n      <td>4.0</td>\n      <td>luxury</td>\n      <td>midsize</td>\n      <td>sedan</td>\n      <td>26</td>\n      <td>17</td>\n      <td>61</td>\n      <td>28995</td>\n    </tr>\n  </tbody>\n</table>\n<p>11914 rows × 16 columns</p>\n</div>"
          },
          "metadata": {}
        }
      ],
      "execution_count": 49
    },
    {
      "cell_type": "code",
      "source": "#finding out what types each column is so that we can make the case of the strings uniform in the data\n#objects are strings\n df.dtypes",
      "metadata": {
        "trusted": true
      },
      "outputs": [],
      "execution_count": 34
    },
    {
      "cell_type": "code",
      "source": "#selecting all columns that have object values\n\ndf.dtypes[df.dtypes == 'object']\n",
      "metadata": {
        "trusted": true
      },
      "outputs": [
        {
          "execution_count": 30,
          "output_type": "execute_result",
          "data": {
            "text/plain": "Make                 object\nModel                object\nEngine Fuel Type     object\nTransmission Type    object\nDriven_Wheels        object\nMarket Category      object\nVehicle Size         object\nVehicle Style        object\ndtype: object"
          },
          "metadata": {}
        }
      ],
      "execution_count": 30
    },
    {
      "cell_type": "code",
      "source": "#getting the indices and converting into a python list\nstrings = list(df.dtypes[df.dtypes == 'object'].index)\nstrings",
      "metadata": {
        "trusted": true
      },
      "outputs": [
        {
          "execution_count": 31,
          "output_type": "execute_result",
          "data": {
            "text/plain": "['Make',\n 'Model',\n 'Engine Fuel Type',\n 'Transmission Type',\n 'Driven_Wheels',\n 'Market Category',\n 'Vehicle Size',\n 'Vehicle Style']"
          },
          "metadata": {}
        }
      ],
      "execution_count": 31
    },
    {
      "cell_type": "code",
      "source": "#iterating through strings to change the case and replace spaces with underscores\n\nfor col in strings:\n    df[col] = df[col].str.lower().str.replace(' ', '_')\n \n",
      "metadata": {
        "trusted": true
      },
      "outputs": [],
      "execution_count": 32
    },
    {
      "cell_type": "code",
      "source": "df",
      "metadata": {
        "trusted": true
      },
      "outputs": [
        {
          "execution_count": 33,
          "output_type": "execute_result",
          "data": {
            "text/plain": "          Make       Model  Year                Engine Fuel Type  Engine HP  \\\n0          bmw  1_series_m  2011     premium_unleaded_(required)      335.0   \n1          bmw    1_series  2011     premium_unleaded_(required)      300.0   \n2          bmw    1_series  2011     premium_unleaded_(required)      300.0   \n3          bmw    1_series  2011     premium_unleaded_(required)      230.0   \n4          bmw    1_series  2011     premium_unleaded_(required)      230.0   \n...        ...         ...   ...                             ...        ...   \n11909    acura         zdx  2012     premium_unleaded_(required)      300.0   \n11910    acura         zdx  2012     premium_unleaded_(required)      300.0   \n11911    acura         zdx  2012     premium_unleaded_(required)      300.0   \n11912    acura         zdx  2013  premium_unleaded_(recommended)      300.0   \n11913  lincoln      zephyr  2006                regular_unleaded      221.0   \n\n       Engine Cylinders Transmission Type      Driven_Wheels  Number of Doors  \\\n0                   6.0            manual   rear_wheel_drive              2.0   \n1                   6.0            manual   rear_wheel_drive              2.0   \n2                   6.0            manual   rear_wheel_drive              2.0   \n3                   6.0            manual   rear_wheel_drive              2.0   \n4                   6.0            manual   rear_wheel_drive              2.0   \n...                 ...               ...                ...              ...   \n11909               6.0         automatic    all_wheel_drive              4.0   \n11910               6.0         automatic    all_wheel_drive              4.0   \n11911               6.0         automatic    all_wheel_drive              4.0   \n11912               6.0         automatic    all_wheel_drive              4.0   \n11913               6.0         automatic  front_wheel_drive              4.0   \n\n                             Market Category Vehicle Size  Vehicle Style  \\\n0      factory_tuner,luxury,high-performance      compact          coupe   \n1                         luxury,performance      compact    convertible   \n2                    luxury,high-performance      compact          coupe   \n3                         luxury,performance      compact          coupe   \n4                                     luxury      compact    convertible   \n...                                      ...          ...            ...   \n11909             crossover,hatchback,luxury      midsize  4dr_hatchback   \n11910             crossover,hatchback,luxury      midsize  4dr_hatchback   \n11911             crossover,hatchback,luxury      midsize  4dr_hatchback   \n11912             crossover,hatchback,luxury      midsize  4dr_hatchback   \n11913                                 luxury      midsize          sedan   \n\n       highway MPG  city mpg  Popularity   MSRP  \n0               26        19        3916  46135  \n1               28        19        3916  40650  \n2               28        20        3916  36350  \n3               28        18        3916  29450  \n4               28        18        3916  34500  \n...            ...       ...         ...    ...  \n11909           23        16         204  46120  \n11910           23        16         204  56670  \n11911           23        16         204  50620  \n11912           23        16         204  50920  \n11913           26        17          61  28995  \n\n[11914 rows x 16 columns]",
            "text/html": "<div>\n<style scoped>\n    .dataframe tbody tr th:only-of-type {\n        vertical-align: middle;\n    }\n\n    .dataframe tbody tr th {\n        vertical-align: top;\n    }\n\n    .dataframe thead th {\n        text-align: right;\n    }\n</style>\n<table border=\"1\" class=\"dataframe\">\n  <thead>\n    <tr style=\"text-align: right;\">\n      <th></th>\n      <th>Make</th>\n      <th>Model</th>\n      <th>Year</th>\n      <th>Engine Fuel Type</th>\n      <th>Engine HP</th>\n      <th>Engine Cylinders</th>\n      <th>Transmission Type</th>\n      <th>Driven_Wheels</th>\n      <th>Number of Doors</th>\n      <th>Market Category</th>\n      <th>Vehicle Size</th>\n      <th>Vehicle Style</th>\n      <th>highway MPG</th>\n      <th>city mpg</th>\n      <th>Popularity</th>\n      <th>MSRP</th>\n    </tr>\n  </thead>\n  <tbody>\n    <tr>\n      <th>0</th>\n      <td>bmw</td>\n      <td>1_series_m</td>\n      <td>2011</td>\n      <td>premium_unleaded_(required)</td>\n      <td>335.0</td>\n      <td>6.0</td>\n      <td>manual</td>\n      <td>rear_wheel_drive</td>\n      <td>2.0</td>\n      <td>factory_tuner,luxury,high-performance</td>\n      <td>compact</td>\n      <td>coupe</td>\n      <td>26</td>\n      <td>19</td>\n      <td>3916</td>\n      <td>46135</td>\n    </tr>\n    <tr>\n      <th>1</th>\n      <td>bmw</td>\n      <td>1_series</td>\n      <td>2011</td>\n      <td>premium_unleaded_(required)</td>\n      <td>300.0</td>\n      <td>6.0</td>\n      <td>manual</td>\n      <td>rear_wheel_drive</td>\n      <td>2.0</td>\n      <td>luxury,performance</td>\n      <td>compact</td>\n      <td>convertible</td>\n      <td>28</td>\n      <td>19</td>\n      <td>3916</td>\n      <td>40650</td>\n    </tr>\n    <tr>\n      <th>2</th>\n      <td>bmw</td>\n      <td>1_series</td>\n      <td>2011</td>\n      <td>premium_unleaded_(required)</td>\n      <td>300.0</td>\n      <td>6.0</td>\n      <td>manual</td>\n      <td>rear_wheel_drive</td>\n      <td>2.0</td>\n      <td>luxury,high-performance</td>\n      <td>compact</td>\n      <td>coupe</td>\n      <td>28</td>\n      <td>20</td>\n      <td>3916</td>\n      <td>36350</td>\n    </tr>\n    <tr>\n      <th>3</th>\n      <td>bmw</td>\n      <td>1_series</td>\n      <td>2011</td>\n      <td>premium_unleaded_(required)</td>\n      <td>230.0</td>\n      <td>6.0</td>\n      <td>manual</td>\n      <td>rear_wheel_drive</td>\n      <td>2.0</td>\n      <td>luxury,performance</td>\n      <td>compact</td>\n      <td>coupe</td>\n      <td>28</td>\n      <td>18</td>\n      <td>3916</td>\n      <td>29450</td>\n    </tr>\n    <tr>\n      <th>4</th>\n      <td>bmw</td>\n      <td>1_series</td>\n      <td>2011</td>\n      <td>premium_unleaded_(required)</td>\n      <td>230.0</td>\n      <td>6.0</td>\n      <td>manual</td>\n      <td>rear_wheel_drive</td>\n      <td>2.0</td>\n      <td>luxury</td>\n      <td>compact</td>\n      <td>convertible</td>\n      <td>28</td>\n      <td>18</td>\n      <td>3916</td>\n      <td>34500</td>\n    </tr>\n    <tr>\n      <th>...</th>\n      <td>...</td>\n      <td>...</td>\n      <td>...</td>\n      <td>...</td>\n      <td>...</td>\n      <td>...</td>\n      <td>...</td>\n      <td>...</td>\n      <td>...</td>\n      <td>...</td>\n      <td>...</td>\n      <td>...</td>\n      <td>...</td>\n      <td>...</td>\n      <td>...</td>\n      <td>...</td>\n    </tr>\n    <tr>\n      <th>11909</th>\n      <td>acura</td>\n      <td>zdx</td>\n      <td>2012</td>\n      <td>premium_unleaded_(required)</td>\n      <td>300.0</td>\n      <td>6.0</td>\n      <td>automatic</td>\n      <td>all_wheel_drive</td>\n      <td>4.0</td>\n      <td>crossover,hatchback,luxury</td>\n      <td>midsize</td>\n      <td>4dr_hatchback</td>\n      <td>23</td>\n      <td>16</td>\n      <td>204</td>\n      <td>46120</td>\n    </tr>\n    <tr>\n      <th>11910</th>\n      <td>acura</td>\n      <td>zdx</td>\n      <td>2012</td>\n      <td>premium_unleaded_(required)</td>\n      <td>300.0</td>\n      <td>6.0</td>\n      <td>automatic</td>\n      <td>all_wheel_drive</td>\n      <td>4.0</td>\n      <td>crossover,hatchback,luxury</td>\n      <td>midsize</td>\n      <td>4dr_hatchback</td>\n      <td>23</td>\n      <td>16</td>\n      <td>204</td>\n      <td>56670</td>\n    </tr>\n    <tr>\n      <th>11911</th>\n      <td>acura</td>\n      <td>zdx</td>\n      <td>2012</td>\n      <td>premium_unleaded_(required)</td>\n      <td>300.0</td>\n      <td>6.0</td>\n      <td>automatic</td>\n      <td>all_wheel_drive</td>\n      <td>4.0</td>\n      <td>crossover,hatchback,luxury</td>\n      <td>midsize</td>\n      <td>4dr_hatchback</td>\n      <td>23</td>\n      <td>16</td>\n      <td>204</td>\n      <td>50620</td>\n    </tr>\n    <tr>\n      <th>11912</th>\n      <td>acura</td>\n      <td>zdx</td>\n      <td>2013</td>\n      <td>premium_unleaded_(recommended)</td>\n      <td>300.0</td>\n      <td>6.0</td>\n      <td>automatic</td>\n      <td>all_wheel_drive</td>\n      <td>4.0</td>\n      <td>crossover,hatchback,luxury</td>\n      <td>midsize</td>\n      <td>4dr_hatchback</td>\n      <td>23</td>\n      <td>16</td>\n      <td>204</td>\n      <td>50920</td>\n    </tr>\n    <tr>\n      <th>11913</th>\n      <td>lincoln</td>\n      <td>zephyr</td>\n      <td>2006</td>\n      <td>regular_unleaded</td>\n      <td>221.0</td>\n      <td>6.0</td>\n      <td>automatic</td>\n      <td>front_wheel_drive</td>\n      <td>4.0</td>\n      <td>luxury</td>\n      <td>midsize</td>\n      <td>sedan</td>\n      <td>26</td>\n      <td>17</td>\n      <td>61</td>\n      <td>28995</td>\n    </tr>\n  </tbody>\n</table>\n<p>11914 rows × 16 columns</p>\n</div>"
          },
          "metadata": {}
        }
      ],
      "execution_count": 33
    },
    {
      "cell_type": "markdown",
      "source": "####Exploratory data analysis",
      "metadata": {}
    },
    {
      "cell_type": "code",
      "source": "#printing columns and their unique values\nfor col in df.columns:\n    print(col)\n    print(df[col].nunique())",
      "metadata": {
        "trusted": true
      },
      "outputs": [
        {
          "name": "stdout",
          "text": "('make',)\n48\n('model',)\n914\n('year',)\n28\n('engine_fuel_type',)\n10\n('engine_hp',)\n356\n('engine_cylinders',)\n9\n('transmission_type',)\n5\n('driven_wheels',)\n4\n('number_of_doors',)\n3\n('market_category',)\n71\n('vehicle_size',)\n3\n('vehicle_style',)\n16\n('highway_mpg',)\n59\n('city_mpg',)\n69\n('popularity',)\n48\n('msrp',)\n6049\n",
          "output_type": "stream"
        }
      ],
      "execution_count": 50
    },
    {
      "cell_type": "code",
      "source": "df.Make.nunique()",
      "metadata": {
        "trusted": true
      },
      "outputs": [
        {
          "execution_count": 43,
          "output_type": "execute_result",
          "data": {
            "text/plain": "48"
          },
          "metadata": {}
        }
      ],
      "execution_count": 43
    },
    {
      "cell_type": "markdown",
      "source": "##Distribution of price",
      "metadata": {}
    },
    {
      "cell_type": "code",
      "source": "%pip install seaborn",
      "metadata": {
        "trusted": true
      },
      "outputs": [],
      "execution_count": 53
    },
    {
      "cell_type": "code",
      "source": "#loading plotting libraries\nimport matplotlib.pyplot as plt\nimport seaborn as sns\n\n\n#making sure all graphs show in notebook\n%matplotlib inline",
      "metadata": {
        "trusted": true
      },
      "outputs": [],
      "execution_count": 55
    },
    {
      "cell_type": "code",
      "source": " df.msrp.max()",
      "metadata": {
        "trusted": true
      },
      "outputs": [
        {
          "execution_count": 56,
          "output_type": "execute_result",
          "data": {
            "text/plain": "msrp    2065902\ndtype: int64"
          },
          "metadata": {}
        }
      ],
      "execution_count": 56
    },
    {
      "cell_type": "code",
      "source": "#histogram plot using the data from the msrp column to understand the distribution of price\n#we see long tail distribution\nsns.histplot(df.msrp, bins = 60)\n",
      "metadata": {
        "trusted": true
      },
      "outputs": [
        {
          "execution_count": 59,
          "output_type": "execute_result",
          "data": {
            "text/plain": "<AxesSubplot:ylabel='Count'>"
          },
          "metadata": {}
        },
        {
          "output_type": "display_data",
          "data": {
            "text/plain": "<Figure size 640x480 with 1 Axes>",
            "image/png": "[encoded data removed]"
          },
          "metadata": {}
        }
      ],
      "execution_count": 59
    },
    {
      "cell_type": "code",
      "source": "#applying log function since this won't help our model\n\nnp.log1p([0, 1, 10, 100, 10000])",
      "metadata": {
        "trusted": true
      },
      "outputs": [
        {
          "execution_count": 60,
          "output_type": "execute_result",
          "data": {
            "text/plain": "array([0.        , 0.69314718, 2.39789527, 4.61512052, 9.21044037])"
          },
          "metadata": {}
        }
      ],
      "execution_count": 60
    },
    {
      "cell_type": "code",
      "source": "np.log([0+1, 1+1, 1+10, 1+100, 1+100000])",
      "metadata": {
        "trusted": true
      },
      "outputs": [
        {
          "execution_count": 61,
          "output_type": "execute_result",
          "data": {
            "text/plain": "array([ 0.        ,  0.69314718,  2.39789527,  4.61512052, 11.51293546])"
          },
          "metadata": {}
        }
      ],
      "execution_count": 61
    },
    {
      "cell_type": "code",
      "source": "#apppplying log function to the msrp values\nprice_logs = np.log1p(df.msrp)",
      "metadata": {
        "trusted": true
      },
      "outputs": [],
      "execution_count": 62
    },
    {
      "cell_type": "code",
      "source": "#we can see a more normally distributed data now \nsns.histplot(price_logs, bins = 50)",
      "metadata": {
        "trusted": true
      },
      "outputs": [
        {
          "execution_count": 63,
          "output_type": "execute_result",
          "data": {
            "text/plain": "<AxesSubplot:ylabel='Count'>"
          },
          "metadata": {}
        },
        {
          "output_type": "display_data",
          "data": {
            "text/plain": "<Figure size 640x480 with 1 Axes>",
            "image/png": "[encoded data removed]"
          },
          "metadata": {}
        }
      ],
      "execution_count": 63
    },
    {
      "cell_type": "code",
      "source": "",
      "metadata": {
        "trusted": true
      },
      "outputs": [],
      "execution_count": null
    }
  ]
}
